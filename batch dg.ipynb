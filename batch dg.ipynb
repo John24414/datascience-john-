{
 "cells": [
  {
   "cell_type": "code",
   "execution_count": 3,
   "id": "cb650bd6",
   "metadata": {},
   "outputs": [
    {
     "name": "stdout",
     "output_type": "stream",
     "text": [
      "okafor chidera\n"
     ]
    }
   ],
   "source": [
    "print(\"okafor chidera\")"
   ]
  },
  {
   "cell_type": "code",
   "execution_count": null,
   "id": "230d9221",
   "metadata": {},
   "outputs": [],
   "source": []
  },
  {
   "cell_type": "code",
   "execution_count": 1,
   "id": "29d94928",
   "metadata": {},
   "outputs": [
    {
     "name": "stdout",
     "output_type": "stream",
     "text": [
      "helloworld\n"
     ]
    }
   ],
   "source": [
    "print(\"helloworld\")"
   ]
  },
  {
   "cell_type": "markdown",
   "id": "dcc62a75",
   "metadata": {},
   "source": [
    "hello word"
   ]
  },
  {
   "cell_type": "code",
   "execution_count": null,
   "id": "77220010",
   "metadata": {},
   "outputs": [],
   "source": []
  }
 ],
 "metadata": {
  "kernelspec": {
   "display_name": "Python 3 (ipykernel)",
   "language": "python",
   "name": "python3"
  },
  "language_info": {
   "codemirror_mode": {
    "name": "ipython",
    "version": 3
   },
   "file_extension": ".py",
   "mimetype": "text/x-python",
   "name": "python",
   "nbconvert_exporter": "python",
   "pygments_lexer": "ipython3",
   "version": "3.11.5"
  }
 },
 "nbformat": 4,
 "nbformat_minor": 5
}
